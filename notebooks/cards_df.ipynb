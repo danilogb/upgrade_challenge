{
 "cells": [
  {
   "cell_type": "code",
   "execution_count": 1,
   "metadata": {},
   "outputs": [],
   "source": [
    "import pandas as pd\n",
    "import datetime as dt\n",
    "import json\n",
    "import glob\n",
    "import os"
   ]
  },
  {
   "cell_type": "code",
   "execution_count": 2,
   "metadata": {},
   "outputs": [],
   "source": [
    "match_id_list = ['3869685', '3869519', '3857289', '3869117', '3857278', '3857272', '3857270', '3857262']"
   ]
  },
  {
   "cell_type": "code",
   "execution_count": 52,
   "metadata": {},
   "outputs": [
    {
     "name": "stdout",
     "output_type": "stream",
     "text": [
      "Match number 3857289 (Argentina vs. Mexico) had no cards registered.\n",
      "Match number 3869117 (United States vs. Netherlands) had no cards registered.\n",
      "Match number 3857272 (United States vs. England) had no cards registered.\n"
     ]
    }
   ],
   "source": [
    "pd.options.mode.chained_assignment = None  # default='warn'\n",
    "\n",
    "for match in match_id_list:\n",
    "    # Read match event files\n",
    "    fname = \"open-data/data/events/\" + match + \".json\"\n",
    "    df = pd.read_json(fname)\n",
    "\n",
    "    # Extract values from .json objects\n",
    "    df['event_type'] = [event['id'] for event in df['type']]\n",
    "    df['event_name'] = [event['name'] for event in df['type']]\n",
    "    df['play_pattern'] = [play['name'] for play in df['play_pattern']]\n",
    "    df['possession_team'] = [team['name'] for team in df['possession_team']]\n",
    "    df['team'] = [team['name'] for team in df['team']]\n",
    "\n",
    "    # Remove unnecessary columns\n",
    "    df.drop(['index','type'], inplace=True, axis=1)\n",
    "\n",
    "    team1, team2 = set(df['team'])  # Team names are added to output file names\n",
    "\n",
    "    # Create shots dataframe\n",
    "    if \"Bad Behaviour\" in df.event_name.values:\n",
    "        cards_df = df[df['event_name']==\"Bad Behaviour\"]\n",
    "        cards_df = cards_df[['period', 'timestamp', 'minute', \n",
    "                                'second', 'possession_team', 'play_pattern', \n",
    "                                'team', 'duration', 'bad_behaviour']]\n",
    "        # Extract values form bad_behaviour objects\n",
    "        cards_df['card'] = [bb['card']['name'] for bb in cards_df['bad_behaviour']]\n",
    "        cards_df = cards_df.reset_index().drop(['index', 'bad_behaviour'], axis=1)\n",
    "\n",
    "        # Create new features\n",
    "        cards_df['event_type'] = 'CARD'\n",
    "        cards_df['offset_in'] = dt.timedelta(seconds=1)\n",
    "        cards_df['offset_out'] = dt.timedelta(seconds=5)\n",
    "        cards_df['event_in_mp'] = pd.Series(dtype='datetime64[ns]')\n",
    "        cards_df['event_out_mp'] = pd.Series(dtype='datetime64[ns]')\n",
    "\n",
    "        # Save shots_df as excel file for each match\n",
    "        cards_df.to_excel(f'cards/{match}_{team1}_{team2}_cards.xlsx')\n",
    "    else:\n",
    "        print(f'Match number {match} ({team1} vs. {team2}) had no cards registered.')\n",
    "        continue"
   ]
  },
  {
   "cell_type": "code",
   "execution_count": null,
   "metadata": {},
   "outputs": [],
   "source": []
  }
 ],
 "metadata": {
  "kernelspec": {
   "display_name": "mindprober",
   "language": "python",
   "name": "python3"
  },
  "language_info": {
   "codemirror_mode": {
    "name": "ipython",
    "version": 3
   },
   "file_extension": ".py",
   "mimetype": "text/x-python",
   "name": "python",
   "nbconvert_exporter": "python",
   "pygments_lexer": "ipython3",
   "version": "3.11.3"
  },
  "orig_nbformat": 4
 },
 "nbformat": 4,
 "nbformat_minor": 2
}
