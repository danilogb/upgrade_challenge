{
 "cells": [
  {
   "cell_type": "code",
   "execution_count": 1,
   "metadata": {},
   "outputs": [],
   "source": [
    "import pandas as pd\n",
    "import datetime as dt\n",
    "import json\n",
    "import glob\n",
    "import os"
   ]
  },
  {
   "cell_type": "code",
   "execution_count": 2,
   "metadata": {},
   "outputs": [],
   "source": [
    "match_id_list = ['3869685', '3869519', '3857289', '3869117', '3857278', '3857272', '3857270', '3857262']"
   ]
  },
  {
   "cell_type": "code",
   "execution_count": 5,
   "metadata": {},
   "outputs": [],
   "source": [
    "for match in match_id_list:\n",
    "    fname =  \"open-data/data/events/\" + match + \".json\"\n",
    "    df = pd.read_json(fname)\n",
    "    \n",
    "    # Extract values from .json objects\n",
    "    df['event_type'] = [event['id'] for event in df['type']]\n",
    "    df['event_name'] = [event['name'] for event in df['type']]\n",
    "    df['play_pattern'] = [play['name'] for play in df['play_pattern']]\n",
    "    df['possession_team'] = [team['name'] for team in df['possession_team']]\n",
    "    df['team'] = [team['name'] for team in df['team']]\n",
    "    \n",
    "    # Remove unnecessary columns\n",
    "    df.drop(['index','type'], inplace=True, axis=1)\n",
    "    \n",
    "    team1, team2 = set(df['team'])\n",
    "    \n",
    "    # Create shots dataframe\n",
    "    shots_df = df[df['event_name']==\"Shot\"]\n",
    "    shots_df = shots_df[['period', 'timestamp', 'minute', \n",
    "                         'second', 'possession_team', 'play_pattern', \n",
    "                         'team', 'duration', 'shot']]\n",
    "    \n",
    "    # Extract values form shots objects\n",
    "    shots_df['xg'] = [shot['statsbomb_xg'] for shot in shots_df['shot']]\n",
    "    shots_df['outcome'] = [shot['outcome'] for shot in shots_df['shot']]\n",
    "    shots_df['outcome'] = [shot['name'] for shot in shots_df['outcome']]\n",
    "    shots_df = shots_df.reset_index().drop(['index', 'shot'], axis=1)\n",
    "    \n",
    "    # Create new features\n",
    "    shots_df['event_type'] = 'SHOT'\n",
    "    shots_df['offset_in'] = dt.timedelta(seconds=1)\n",
    "    shots_df['offset_out'] = dt.timedelta(seconds=5)\n",
    "    shots_df['event_in_mp'] = pd.Series(dtype='datetime64[ns]')\n",
    "    shots_df['event_out_mp'] = pd.Series(dtype='datetime64[ns]')\n",
    "    \n",
    "    # Save shots_df as excel file for each match\n",
    "    shots_df.to_excel(f'shots/{match}_{team1}_{team2}_shots.xlsx')"
   ]
  },
  {
   "cell_type": "code",
   "execution_count": null,
   "metadata": {},
   "outputs": [],
   "source": []
  }
 ],
 "metadata": {
  "kernelspec": {
   "display_name": "mindprober",
   "language": "python",
   "name": "python3"
  },
  "language_info": {
   "codemirror_mode": {
    "name": "ipython",
    "version": 3
   },
   "file_extension": ".py",
   "mimetype": "text/x-python",
   "name": "python",
   "nbconvert_exporter": "python",
   "pygments_lexer": "ipython3",
   "version": "3.11.3"
  },
  "orig_nbformat": 4
 },
 "nbformat": 4,
 "nbformat_minor": 2
}
